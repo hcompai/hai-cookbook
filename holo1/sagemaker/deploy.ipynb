{
 "cells": [
  {
   "attachments": {},
   "cell_type": "markdown",
   "metadata": {},
   "source": [
    "# How to deploy Holo-1 (3B or 7B) on Amazon Sagemaker\n",
    "\n",
    "Holo-1 is an Action Vision-Language Model (VLM) developed by [H Company](https://www.hcompany.ai/) for use in the Surfer-H web agent system. It is designed to interact with web interfaces like a human user. \n",
    "\n",
    "As part of a broader agentic architecture, Holo-1 acts as a policy, localizer, or validator, helping the agent understand and act in digital environments.\n",
    "\n",
    "This notebook demonstrates how to deploy Holo-1 (3B or 7B), as a real-time endpoint using the managed service Amazon SageMaker. \n",
    "\n",
    "\n",
    "## Pre-requisites\n",
    "- Please make sure you have previously subscribed to the model in AWS Marketplace.\n",
    "    - [Holo-1 3B](https://aws.amazon.com/marketplace/pp/prodview-2ncbodkeutxrs)\n",
    "    - [Holo-1 7B](https://aws.amazon.com/marketplace/pp/prodview-oab3cbb4jrexy)\n",
    "- The notebook does not require a GPU, its purpose is to leverage AWS API (boto3) to deploy the endpoint.\n",
    "- Ensure that selected IAM role used has enough privileges. You may start with role with [AmazonSageMakerFullAccess](https://docs.aws.amazon.com/aws-managed-policy/latest/reference/AmazonSageMakerFullAccess.html) policy attached abd that its trust relationship policy allows the action \n",
    "`sts:AssumeRole` for the service principal `sagemaker.amazonaws.com`.\n",
    "\n",
    "## Contents\n",
    "1. [Install required python dependencies](#1-install-required-python-dependencies)\n",
    "2. [Setting up the SageMaker session and client](#2-setting-up-the-sagemaker-session-and-client)\n",
    "3. [Select Holo-1 Model Package](#3-select-holo-1-model-package)\n",
    "4. [Deploy Holo-1](#4-deploy-holo-1)\n",
    "    1. [Endpoint Configuration](#a-define-the-endpoint-configuration)\n",
    "    1. [Create the endpoint](#b-create-the-endpoint)\n",
    "5. [Run an example](#5-run-an-example)\n",
    "6. [Clean-up](#6-clean-up)"
   ]
  },
  {
   "cell_type": "markdown",
   "metadata": {},
   "source": [
    "## 1. Install required python dependencies"
   ]
  },
  {
   "cell_type": "code",
   "execution_count": 7,
   "metadata": {},
   "outputs": [],
   "source": [
    "!pip install -qU boto3 sagemaker"
   ]
  },
  {
   "cell_type": "code",
   "execution_count": 8,
   "metadata": {},
   "outputs": [],
   "source": [
    "import boto3\n",
    "import datetime\n",
    "from datetime import datetime\n",
    "from typing import Literal\n",
    "import sagemaker"
   ]
  },
  {
   "cell_type": "markdown",
   "metadata": {},
   "source": [
    "## 2. Setting up the SageMaker session and client"
   ]
  },
  {
   "cell_type": "code",
   "execution_count": 9,
   "metadata": {},
   "outputs": [],
   "source": [
    "# Specify the profile name to use for invoking the model\n",
    "AWS_PROFILE: str | None = None\n",
    "\n",
    "session = boto3.Session(profile_name=AWS_PROFILE)\n",
    "sm_session = sagemaker.Session(boto_session=session)\n",
    "sm_rt_client = session.client(\"sagemaker-runtime\")\n",
    "sm_exec_role = \"<execution role allowed to deploy sagemaker model>\"  # or sagemaker.get_execution_role(sagemaker_session=sm_session)"
   ]
  },
  {
   "cell_type": "markdown",
   "metadata": {},
   "source": [
    "## 3. Select Holo-1 Model Package"
   ]
  },
  {
   "cell_type": "code",
   "execution_count": 10,
   "metadata": {},
   "outputs": [],
   "source": [
    "# Select model holo1-3b or holo1-7b\n",
    "MODEL_NAME: Literal[\"holo1-3b\", \"holo1-7b\"] = \"holo1-3b\"\n",
    "# Select a region where G6e instance family is available\n",
    "HOLO1_MODEL_PACKAGES = {\n",
    "    \"holo1-3b\": {\n",
    "        \"ap-northeast-1\": \"arn:aws:sagemaker:ap-northeast-1:977537786026:model-package/holo1-3b-20250521-5ce382a175493f1ab5666f65ee4774b7\",  # Tokyo\n",
    "        \"ap-northeast-2\": \"arn:aws:sagemaker:ap-northeast-2:745090734665:model-package/holo1-3b-20250521-5ce382a175493f1ab5666f65ee4774b7\",  # Seoul\n",
    "        \"eu-central-1\": \"arn:aws:sagemaker:eu-central-1:446921602837:model-package/holo1-3b-20250521-5ce382a175493f1ab5666f65ee4774b7\",  # Frankfurt\n",
    "        \"eu-north-1\": \"arn:aws:sagemaker:eu-north-1:136758871317:model-package/holo1-3b-20250521-5ce382a175493f1ab5666f65ee4774b7\",  # Stockholm\n",
    "        \"us-east-1\": \"arn:aws:sagemaker:us-east-1:865070037744:model-package/holo1-3b-20250521-5ce382a175493f1ab5666f65ee4774b7\",  # N. Virginia\n",
    "        \"us-east-2\": \"arn:aws:sagemaker:us-east-2:057799348421:model-package/holo1-3b-20250521-5ce382a175493f1ab5666f65ee4774b7\",  # Ohio\n",
    "        \"us-west-2\": \"arn:aws:sagemaker:us-west-2:594846645681:model-package/holo1-3b-20250521-5ce382a175493f1ab5666f65ee4774b7\",  # Oregon\n",
    "    },\n",
    "    \"holo1-7b\": {\n",
    "        \"ap-northeast-1\": \"arn:aws:sagemaker:ap-northeast-1:977537786026:model-package/holo1-7b-20250521-9e6a3648689635a9a554de600c864e48\",  # Tokyo\n",
    "        \"ap-northeast-2\": \"arn:aws:sagemaker:ap-northeast-2:745090734665:model-package/holo1-7b-20250521-9e6a3648689635a9a554de600c864e48\",  # Seoul\n",
    "        \"eu-central-1\": \"arn:aws:sagemaker:eu-central-1:446921602837:model-package/holo1-7b-20250521-9e6a3648689635a9a554de600c864e48\",  # Frankfurt\n",
    "        \"eu-north-1\": \"arn:aws:sagemaker:eu-north-1:136758871317:model-package/holo1-7b-20250521-9e6a3648689635a9a554de600c864e48\",  # Stocklom\n",
    "        \"us-east-1\": \"arn:aws:sagemaker:us-east-1:865070037744:model-package/holo1-7b-20250521-9e6a3648689635a9a554de600c864e48\",  # N. Virginia\n",
    "        \"us-east-2\": \"arn:aws:sagemaker:us-east-2:057799348421:model-package/holo1-7b-20250521-9e6a3648689635a9a554de600c864e48\",  # Ohio\n",
    "        \"us-west-2\": \"arn:aws:sagemaker:us-west-2:594846645681:model-package/holo1-7b-20250521-9e6a3648689635a9a554de600c864e48\",  # Oregon\n",
    "    },\n",
    "}\n",
    "\n",
    "if session.region_name not in HOLO1_MODEL_PACKAGES[MODEL_NAME].keys():\n",
    "    raise f\"Error: The selected region does not support the {MODEL_NAME} model package. Please change your client region.\"\n",
    "\n",
    "holo1_model_package = HOLO1_MODEL_PACKAGES[MODEL_NAME][session.region_name]"
   ]
  },
  {
   "cell_type": "markdown",
   "metadata": {},
   "source": [
    "## 4. Deploy Holo-1"
   ]
  },
  {
   "cell_type": "markdown",
   "metadata": {},
   "source": [
    "In this example, we're deploying a SageMaker real-time endpoint hosted on a GPU instance. If you need general information on real-time inference with Amazon SageMaker, please refer to the SageMaker [documentation](https://docs.aws.amazon.com/sagemaker/latest/dg/deploy-model.html).\n",
    "\n",
    "The deployed endpoint leverage vLLM serve, hence, supporting [OpenAI APIs](https://docs.vllm.ai/en/v0.8.4/serving/openai_compatible_server.html), exposing the `v1/chat/completions` endpoint "
   ]
  },
  {
   "cell_type": "markdown",
   "metadata": {},
   "source": [
    "### A. Define the endpoint configuration"
   ]
  },
  {
   "cell_type": "code",
   "execution_count": 11,
   "metadata": {},
   "outputs": [],
   "source": [
    "INSTANCE_TYPE = \"ml.g6e.4xlarge\"\n",
    "# timeout for downloading the model data from S3\n",
    "MODEL_DATA_DOWNLOAD_TIMEOUT = 1200\n",
    "# timeout before the container is ready to serve requests\n",
    "CONTAINER_STARTUP_HEALTH_CHECK_TIMEOUT = 1200"
   ]
  },
  {
   "cell_type": "markdown",
   "metadata": {},
   "source": [
    "### B. Create the endpoint"
   ]
  },
  {
   "cell_type": "code",
   "execution_count": null,
   "metadata": {},
   "outputs": [],
   "source": [
    "# create a deployable model from the model package.\n",
    "model = sagemaker.ModelPackage(\n",
    "    role=sm_exec_role,\n",
    "    model_package_arn=holo1_model_package,\n",
    "    sagemaker_session=sm_session,\n",
    ")\n",
    "\n",
    "# create a unique endpoint name\n",
    "timestamp = datetime.now().strftime(\"%Y-%m-%d-%H-%M-%S\")\n",
    "endpoint_name = f\"{MODEL_NAME}-{timestamp}\"\n",
    "print(f\"Deploying endpoint {endpoint_name}\")\n",
    "\n",
    "# deploy the model\n",
    "response = model.deploy(\n",
    "    initial_instance_count=1,\n",
    "    instance_type=INSTANCE_TYPE,\n",
    "    endpoint_name=endpoint_name,\n",
    "    model_data_download_timeout=MODEL_DATA_DOWNLOAD_TIMEOUT,\n",
    "    container_startup_health_check_timeout=CONTAINER_STARTUP_HEALTH_CHECK_TIMEOUT,\n",
    ")"
   ]
  },
  {
   "cell_type": "markdown",
   "metadata": {},
   "source": [
    "## 5. Run an example\n",
    "\n",
    "The endpoint is in service. You can use Sagemaker `invoke_endpoint` API to perform real time inference on the deployed Holo-1 model.\n",
    "\n",
    "- [Using AWS SageMaker to Invoke Holo-1 for a localisation task](https://github.com/hcompai/hai-cookbook/blob/main/holo1/sagemaker/invoke_localisation.ipynb)"
   ]
  },
  {
   "cell_type": "markdown",
   "metadata": {},
   "source": [
    "## 6. Clean-up\n",
    "Now that you have successfully performed a real-time inference, you do not need the endpoint anymore. You can terminate the endpoint to avoid being charged.\n",
    "\n",
    "Please don't forget to run the cells below to delete all resources and avoid unecessary charges."
   ]
  },
  {
   "cell_type": "code",
   "execution_count": null,
   "metadata": {},
   "outputs": [],
   "source": [
    "sm_session.delete_endpoint(EndpointName=endpoint_name)\n",
    "sm_session.delete_model(ModelName=endpoint_name)"
   ]
  }
 ],
 "metadata": {
  "instance_type": "ml.t3.medium",
  "kernelspec": {
   "display_name": ".venv",
   "language": "python",
   "name": "python3"
  },
  "language_info": {
   "codemirror_mode": {
    "name": "ipython",
    "version": 3
   },
   "file_extension": ".py",
   "mimetype": "text/x-python",
   "name": "python",
   "nbconvert_exporter": "python",
   "pygments_lexer": "ipython3",
   "version": "3.11.9"
  }
 },
 "nbformat": 4,
 "nbformat_minor": 4
}
